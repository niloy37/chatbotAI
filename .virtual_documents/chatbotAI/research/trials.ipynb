%pwd


import os
os.chdir("../")
%pwd


from langchain.document_loaders import PyPDFLoader, DirectoryLoader
from langchain.text_splitter import RecursiveCharacterTextSplitter


#Extracting the data from the pdf

def load_pdf_file(data):
    loader= DirectoryLoader(data, glob="*.pdf", loader_cls=PyPDFLoader)
    documents = loader.load()
    return documents


extracted_data = load_pdf_file(data ='/Users/havoc/Documents/development/github/chatbotAI/chatbotAI/Data/')


# extracted_data



#splitting the Data into text chunks

def text_split(extracted_data):
    text_splitter = RecursiveCharacterTextSplitter(chunk_size = 500, chunk_overlap  = 20)
    text_chunks =text_splitter.split_documents(extracted_data)
    return text_chunks


text_chunks = text_split(extracted_data)
len(text_chunks)


from langchain.embeddings import HuggingFaceBgeEmbeddings


#downloading the embeddings from huggingface

def download_embeddings():
    embeddings = HuggingFaceBgeEmbeddings(model_name="sentence-transformers/all-MiniLM-L6-v2")
    return embeddings


embeddings = download_embeddings()


query_result = embeddings.embed_query("Hello Trina")

len(query_result)


import os
from dotenv import load_dotenv

# Load environment variables
load_dotenv()

# Fetch API key
PINECONE_API_KEY = os.getenv("PINECONE_API_KEY")

# Debugging: Print API key to check if it's being loaded (remove this after debugging)
print(f"API Key Loaded: {PINECONE_API_KEY}")

# Check if API key is found
if not PINECONE_API_KEY:
    raise ValueError("PINECONE_API_KEY not found. Check your .env file.")



import os
from dotenv import load_dotenv
import pinecone  # Correct import

# Load environment variables
load_dotenv()

# Fetch API key
PINECONE_API_KEY = os.getenv("API_KEY")

# Debugging: Check if API key is loaded
if not PINECONE_API_KEY:
    raise ValueError("PINECONE_API_KEY not found. Check your .env file.")

# Initialize Pinecone client
pc = pinecone.Pinecone(api_key=PINECONE_API_KEY)  # Correct usage

# Define index name
index_name = "chatbotAI"

# Create index
pc.create_index(
    name=index_name,
    dimension=384,
    metric="cosine",
    spec=pinecone.ServerlessSpec(
        cloud="aws",
        region="us-east-1"
    )
)







